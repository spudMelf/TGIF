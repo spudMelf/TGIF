{
 "cells": [
  {
   "cell_type": "code",
   "execution_count": 32,
   "id": "7467646e",
   "metadata": {},
   "outputs": [
    {
     "name": "stdout",
     "output_type": "stream",
     "text": [
      "Empty DataFrame\n",
      "Columns: [Link]\n",
      "Index: []\n"
     ]
    }
   ],
   "source": [
    "# we are going to use pandas to interact with the csv file\n",
    "# we need to add a new column for the #/index and the link to the file\n",
    "import pandas as pd\n",
    "\n",
    "df = pd.DataFrame({\"Link\":[]})\n",
    "\n",
    "print(df.to_string())\n"
   ]
  },
  {
   "cell_type": "code",
   "execution_count": 48,
   "id": "94b8341d",
   "metadata": {},
   "outputs": [
    {
     "name": "stdout",
     "output_type": "stream",
     "text": [
      "            Link\n",
      "0   HB00001I.pdf\n",
      "1   HB00002I.pdf\n",
      "2   HB00003I.pdf\n",
      "3   HB00004I.pdf\n",
      "4   HB00005I.pdf\n",
      "..           ...\n",
      "88  HB00089I.pdf\n",
      "89  HB00090I.pdf\n",
      "90  HB00091I.pdf\n",
      "91  HB00092I.pdf\n",
      "92  HB00093I.pdf\n",
      "\n",
      "[93 rows x 1 columns]\n"
     ]
    }
   ],
   "source": [
    "files = os.listdir(os.getcwd())\n",
    "i_bills = []\n",
    "for f in files:\n",
    "    if \"I.pdf\" in f:\n",
    "        i_bills.append(f)\n",
    "df_temp = pd.DataFrame({\"Link\":i_bills})\n",
    "print(df_temp)"
   ]
  },
  {
   "cell_type": "code",
   "execution_count": 35,
   "id": "bad77d3c",
   "metadata": {},
   "outputs": [],
   "source": [
    "df_temp.to_csv('test.csv', index=False)"
   ]
  },
  {
   "cell_type": "code",
   "execution_count": 36,
   "id": "30712553",
   "metadata": {},
   "outputs": [],
   "source": [
    "df_temp2 = pd.read_csv('test.csv')"
   ]
  },
  {
   "cell_type": "code",
   "execution_count": 38,
   "id": "9f9eb7af",
   "metadata": {},
   "outputs": [
    {
     "data": {
      "text/html": [
       "<div>\n",
       "<style scoped>\n",
       "    .dataframe tbody tr th:only-of-type {\n",
       "        vertical-align: middle;\n",
       "    }\n",
       "\n",
       "    .dataframe tbody tr th {\n",
       "        vertical-align: top;\n",
       "    }\n",
       "\n",
       "    .dataframe thead th {\n",
       "        text-align: right;\n",
       "    }\n",
       "</style>\n",
       "<table border=\"1\" class=\"dataframe\">\n",
       "  <thead>\n",
       "    <tr style=\"text-align: right;\">\n",
       "      <th></th>\n",
       "      <th>Link</th>\n",
       "    </tr>\n",
       "  </thead>\n",
       "  <tbody>\n",
       "    <tr>\n",
       "      <th>0</th>\n",
       "      <td>HB00001I.pdf</td>\n",
       "    </tr>\n",
       "    <tr>\n",
       "      <th>1</th>\n",
       "      <td>HB00002I.pdf</td>\n",
       "    </tr>\n",
       "    <tr>\n",
       "      <th>2</th>\n",
       "      <td>HB00003I.pdf</td>\n",
       "    </tr>\n",
       "    <tr>\n",
       "      <th>3</th>\n",
       "      <td>HB00004I.pdf</td>\n",
       "    </tr>\n",
       "    <tr>\n",
       "      <th>4</th>\n",
       "      <td>HB00005I.pdf</td>\n",
       "    </tr>\n",
       "    <tr>\n",
       "      <th>...</th>\n",
       "      <td>...</td>\n",
       "    </tr>\n",
       "    <tr>\n",
       "      <th>94</th>\n",
       "      <td>HB00095I.pdf</td>\n",
       "    </tr>\n",
       "    <tr>\n",
       "      <th>95</th>\n",
       "      <td>HB00096I.pdf</td>\n",
       "    </tr>\n",
       "    <tr>\n",
       "      <th>96</th>\n",
       "      <td>HB00097I.pdf</td>\n",
       "    </tr>\n",
       "    <tr>\n",
       "      <th>97</th>\n",
       "      <td>HB00098I.pdf</td>\n",
       "    </tr>\n",
       "    <tr>\n",
       "      <th>98</th>\n",
       "      <td>HB00099I.pdf</td>\n",
       "    </tr>\n",
       "  </tbody>\n",
       "</table>\n",
       "<p>99 rows × 1 columns</p>\n",
       "</div>"
      ],
      "text/plain": [
       "            Link\n",
       "0   HB00001I.pdf\n",
       "1   HB00002I.pdf\n",
       "2   HB00003I.pdf\n",
       "3   HB00004I.pdf\n",
       "4   HB00005I.pdf\n",
       "..           ...\n",
       "94  HB00095I.pdf\n",
       "95  HB00096I.pdf\n",
       "96  HB00097I.pdf\n",
       "97  HB00098I.pdf\n",
       "98  HB00099I.pdf\n",
       "\n",
       "[99 rows x 1 columns]"
      ]
     },
     "execution_count": 38,
     "metadata": {},
     "output_type": "execute_result"
    }
   ],
   "source": [
    "df_temp2"
   ]
  },
  {
   "cell_type": "code",
   "execution_count": 49,
   "id": "b44f2cc4",
   "metadata": {},
   "outputs": [],
   "source": [
    "for f in i_bills:\n",
    "    os.remove(f)"
   ]
  },
  {
   "cell_type": "code",
   "execution_count": 47,
   "id": "130d9c79",
   "metadata": {},
   "outputs": [
    {
     "name": "stdout",
     "output_type": "stream",
     "text": [
      "['HB00094I.pdf', 'HB00095I.pdf', 'HB00096I.pdf', 'HB00097I.pdf', 'HB00098I.pdf', 'HB00099I.pdf']\n"
     ]
    }
   ],
   "source": [
    "print(i_bills)"
   ]
  },
  {
   "cell_type": "code",
   "execution_count": null,
   "id": "81a16111",
   "metadata": {},
   "outputs": [],
   "source": []
  }
 ],
 "metadata": {
  "kernelspec": {
   "display_name": "Python 3 (ipykernel)",
   "language": "python",
   "name": "python3"
  },
  "language_info": {
   "codemirror_mode": {
    "name": "ipython",
    "version": 3
   },
   "file_extension": ".py",
   "mimetype": "text/x-python",
   "name": "python",
   "nbconvert_exporter": "python",
   "pygments_lexer": "ipython3",
   "version": "3.9.2"
  }
 },
 "nbformat": 4,
 "nbformat_minor": 5
}
