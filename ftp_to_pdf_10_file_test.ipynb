{
 "cells": [
  {
   "cell_type": "code",
   "execution_count": 1,
   "id": "5c80e7ee",
   "metadata": {},
   "outputs": [],
   "source": [
    "#import this so we can work with FTP files\n",
    "from ftplib import FTP"
   ]
  },
  {
   "cell_type": "code",
   "execution_count": 9,
   "id": "a0d61ece",
   "metadata": {},
   "outputs": [],
   "source": [
    "with FTP('ftp.legis.state.tx.us') as ftp:\n",
    "    ftp.login() #since this is a public server we don't need any credentials\n",
    "    \n",
    "    #now we will traverse to the 86R House bills directory\n",
    "    ftp.cwd('bills/86R/billtext/pdf/house_bills/HB00001_HB00099')\n",
    "    \n",
    "    #store all the filenames in the current directory in files\n",
    "    files = []\n",
    "    ftp.dir(files.append)\n",
    "    \n",
    "    #make array to store files we want\n",
    "    i_bills = []\n",
    "    \n",
    "    for file in files:\n",
    "        if \"I.pdf\" in file:\n",
    "            start_index = file.find(\"HB\") #truncate the file the ftp.dir() gets that we don't want\n",
    "            i_bills.append(file[start_index:])\n",
    "            \n",
    "    #print(i_bills)\n",
    "    #now we'll just grab 10 of the files for testing purposes\n",
    "    #i_bills = i_bills[2:12]\n",
    "    \n",
    "    #now we try to download the files\n",
    "    for filename in i_bills:\n",
    "        #we open the file to write to\n",
    "        with open(filename, \"wb\") as file:\n",
    "            #and use ftp's retrbinary to write to the file\n",
    "            ftp.retrbinary(f\"RETR {filename}\", file.write)\n",
    "    ftp.close()"
   ]
  },
  {
   "cell_type": "code",
   "execution_count": null,
   "id": "01cf1175",
   "metadata": {},
   "outputs": [],
   "source": [
    "df = pd.DataFrame({\"Link\":})\n"
   ]
  }
 ],
 "metadata": {
  "kernelspec": {
   "display_name": "Python 3 (ipykernel)",
   "language": "python",
   "name": "python3"
  },
  "language_info": {
   "codemirror_mode": {
    "name": "ipython",
    "version": 3
   },
   "file_extension": ".py",
   "mimetype": "text/x-python",
   "name": "python",
   "nbconvert_exporter": "python",
   "pygments_lexer": "ipython3",
   "version": "3.9.2"
  }
 },
 "nbformat": 4,
 "nbformat_minor": 5
}
