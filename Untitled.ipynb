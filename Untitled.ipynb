{
 "cells": [
  {
   "cell_type": "code",
   "execution_count": 15,
   "id": "f224bd4a",
   "metadata": {},
   "outputs": [],
   "source": [
    "from ftplib import FTP"
   ]
  },
  {
   "cell_type": "code",
   "execution_count": 28,
   "id": "3fb7e39a",
   "metadata": {},
   "outputs": [
    {
     "name": "stdout",
     "output_type": "stream",
     "text": [
      "220 Microsoft FTP Service\n"
     ]
    }
   ],
   "source": [
    "# connect to ftp server\n",
    "with FTP('ftp.legis.state.tx.us') as ftp:\n",
    "    ftp.login()\n",
    "    print(ftp.getwelcome())"
   ]
  },
  {
   "cell_type": "code",
   "execution_count": null,
   "id": "36f83ce7",
   "metadata": {},
   "outputs": [],
   "source": []
  },
  {
   "cell_type": "code",
   "execution_count": 62,
   "id": "04bcb7b3",
   "metadata": {},
   "outputs": [
    {
     "name": "stdout",
     "output_type": "stream",
     "text": [
      "/\n",
      "/bills/87R/billtext/pdf/house_bills/HB00001_HB00099\n",
      "HB00001I.pdf\n",
      "/bills/87R/billtext/pdf/house_bills/HB00001_HB00099/HB00001I.pdf\n",
      "The file size in MB is: 7.650442123413086\n",
      "The total size of all files in the folder is 33.63517761230469\n"
     ]
    }
   ],
   "source": [
    "#print address of current directory\n",
    "with FTP('ftp.legis.state.tx.us') as ftp:\n",
    "    ftp.login()\n",
    "    print(ftp.pwd()) #print working directory\n",
    "    #ftp.retrlines('LIST') # lists all items in current directory\n",
    "    \n",
    "    ftp.cwd('bills/87R/billtext/pdf/house_bills/HB00001_HB00099') #change working directory\n",
    "    print(ftp.pwd())\n",
    "    \n",
    "    #list directory contents using ftplib.FTP.dir()\n",
    "    files = []\n",
    "    ftp.dir(files.append)\n",
    "    #for f in files:\n",
    "        #print(f)\n",
    "        \n",
    "    #get size of a file\n",
    "    file_name = files[0]\n",
    "    file_name = file_name[file_name.rindex(' ') + 1: len(file_name)]\n",
    "    print(file_name)\n",
    "    \n",
    "    current_directory = ftp.pwd()\n",
    "    file_name = current_directory + \"/\" + file_name\n",
    "    print(file_name)\n",
    "    \n",
    "    size = ftp.size(file_name) / 1048576\n",
    "    print(\"The file size in MB is: %s\"%(size))\n",
    "    \n",
    "    total_size = 0\n",
    "    for f in files:\n",
    "        file_name = str(f)\n",
    "        file_name = file_name[file_name.rindex(' ') + 1: len(file_name)]\n",
    "        file_name = current_directory + \"/\" + file_name\n",
    "        \n",
    "        total_size += ftp.size(file_name) / 1048576\n",
    "        \n",
    "    print(\"The total size of all files in the folder is %s\" %(total_size))"
   ]
  },
  {
   "cell_type": "code",
   "execution_count": 63,
   "id": "0e5ff578",
   "metadata": {},
   "outputs": [
    {
     "name": "stdout",
     "output_type": "stream",
     "text": [
      "The total size of all files in the folder is 33.63517761230469\n"
     ]
    }
   ],
   "source": [
    "with FTP('ftp.legis.state.tx.us') as ftp:\n",
    "    ftp.login()\n",
    "    #change directory to 87R pdfs\n",
    "    ftp.cwd('bills/87R/billtext/pdf/house_bills/HB00001_HB00099') #change working directory\n",
    "    \n",
    "    # fill files array with pdfs in directory\n",
    "    files = []\n",
    "    ftp.dir(files.append)\n",
    "    \n",
    "    current_directory = ftp.pwd()\n",
    "    total_size = 0\n",
    "    \n",
    "    # go through files and sum the size of all pdfs and add\n",
    "    for f in files:\n",
    "        file_name = str(f)\n",
    "        file_name = file_name[file_name.rindex(' ') + 1: len(file_name)]\n",
    "        file_name = current_directory + \"/\" + file_name\n",
    "        \n",
    "        total_size += ftp.size(file_name) / 1048576\n",
    "        \n",
    "    print(\"The total size of all files in the folder is %s\" %(total_size))"
   ]
  },
  {
   "cell_type": "code",
   "execution_count": 1,
   "id": "24026b08",
   "metadata": {},
   "outputs": [
    {
     "ename": "NameError",
     "evalue": "name 'FTP' is not defined",
     "output_type": "error",
     "traceback": [
      "\u001b[1;31m---------------------------------------------------------------------------\u001b[0m",
      "\u001b[1;31mNameError\u001b[0m                                 Traceback (most recent call last)",
      "\u001b[1;32m<ipython-input-1-5bdd43f7bd5c>\u001b[0m in \u001b[0;36m<module>\u001b[1;34m\u001b[0m\n\u001b[1;32m----> 1\u001b[1;33m \u001b[1;32mwith\u001b[0m \u001b[0mFTP\u001b[0m\u001b[1;33m(\u001b[0m\u001b[1;34m'ftp.legis.state.tx.us'\u001b[0m\u001b[1;33m)\u001b[0m \u001b[1;32mas\u001b[0m \u001b[0mftp\u001b[0m\u001b[1;33m:\u001b[0m\u001b[1;33m\u001b[0m\u001b[1;33m\u001b[0m\u001b[0m\n\u001b[0m\u001b[0;32m      2\u001b[0m     \u001b[0mftp\u001b[0m\u001b[1;33m.\u001b[0m\u001b[0mlogin\u001b[0m\u001b[1;33m(\u001b[0m\u001b[1;33m)\u001b[0m\u001b[1;33m\u001b[0m\u001b[1;33m\u001b[0m\u001b[0m\n\u001b[0;32m      3\u001b[0m     \u001b[0mftp\u001b[0m\u001b[1;33m.\u001b[0m\u001b[0mcwd\u001b[0m\u001b[1;33m(\u001b[0m\u001b[1;34m'bills/87R/billtext/pdf/house_bills/HB00001_HB00099'\u001b[0m\u001b[1;33m)\u001b[0m \u001b[1;31m#change working directory\u001b[0m\u001b[1;33m\u001b[0m\u001b[1;33m\u001b[0m\u001b[0m\n\u001b[0;32m      4\u001b[0m \u001b[1;33m\u001b[0m\u001b[0m\n\u001b[0;32m      5\u001b[0m     \u001b[1;31m# fill files array with pdfs in directory\u001b[0m\u001b[1;33m\u001b[0m\u001b[1;33m\u001b[0m\u001b[1;33m\u001b[0m\u001b[0m\n",
      "\u001b[1;31mNameError\u001b[0m: name 'FTP' is not defined"
     ]
    }
   ],
   "source": [
    "with FTP('ftp.legis.state.tx.us') as ftp:\n",
    "    ftp.login()\n",
    "    ftp.cwd('bills/87R/billtext/pdf/house_bills/HB00001_HB00099') #change working directory\n",
    "    \n",
    "    # fill files array with pdfs in directory\n",
    "    files = []\n",
    "    ftp.dir(files.append)\n",
    "    \n",
    "    current_directory = ftp.pwd()\n",
    "    total_size = 0\n",
    "    \n",
    "    file_name = str(files[0])\n",
    "    file_name = file_name[file_name.rindex(' ') + 1: len(file_name)]\n",
    "    file_name = current_directory + \"/\" + file_name\n",
    "    \n",
    "    print(ftp.size(file_name))\n",
    "    print(\"Getting %s\" %(file_name))\n",
    "    #file_name = \"ftp.legis.state.tx.us\" + file_name\n",
    "    file_name = str(files[0])\n",
    "    file_name = file_name[file_name.rindex(' ') + 1: len(file_name)]\n",
    "\n",
    "    with open(file_name, \"wb\") as file:\n",
    "        # Command for Downloading the file \"RETR filename\"\n",
    "        ftp_server.retrbinary(f\"RETR {file_name}\", file.write)\n",
    "    \n",
    "    ftp.close()"
   ]
  },
  {
   "cell_type": "code",
   "execution_count": 31,
   "id": "cd361267",
   "metadata": {},
   "outputs": [
    {
     "name": "stdout",
     "output_type": "stream",
     "text": [
      "C:\\\n"
     ]
    }
   ],
   "source": [
    "import os\n",
    "os.chdir(\"../\")\n",
    "#os.chdir(\"/text_data\")\n",
    "print(os.getcwd())"
   ]
  },
  {
   "cell_type": "code",
   "execution_count": null,
   "id": "8ab81afa",
   "metadata": {},
   "outputs": [],
   "source": []
  }
 ],
 "metadata": {
  "kernelspec": {
   "display_name": "Python 3 (ipykernel)",
   "language": "python",
   "name": "python3"
  },
  "language_info": {
   "codemirror_mode": {
    "name": "ipython",
    "version": 3
   },
   "file_extension": ".py",
   "mimetype": "text/x-python",
   "name": "python",
   "nbconvert_exporter": "python",
   "pygments_lexer": "ipython3",
   "version": "3.9.2"
  }
 },
 "nbformat": 4,
 "nbformat_minor": 5
}
